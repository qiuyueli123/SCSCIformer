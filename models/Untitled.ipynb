{
 "cells": [
  {
   "cell_type": "code",
   "execution_count": 2,
   "id": "81860158-1e55-4d6c-a44b-0d4ba5ebf7b2",
   "metadata": {},
   "outputs": [],
   "source": [
    "import torch\n",
    "import torch.nn as nn\n",
    "import torch.nn.functional as F"
   ]
  },
  {
   "cell_type": "code",
   "execution_count": 3,
   "id": "d9a987fd-e281-47b7-9670-3da96e1e8ff5",
   "metadata": {},
   "outputs": [],
   "source": [
    "w_dec = torch.nn.Parameter(torch.FloatTensor([21,2]),requires_grad=True)"
   ]
  },
  {
   "cell_type": "code",
   "execution_count": 5,
   "id": "47ffe463-90fe-4b3b-b747-0c83ba02d982",
   "metadata": {},
   "outputs": [
    {
     "data": {
      "text/plain": [
       "tensor([441.,   4.], grad_fn=<MulBackward0>)"
      ]
     },
     "execution_count": 5,
     "metadata": {},
     "output_type": "execute_result"
    }
   ],
   "source": [
    "w_dec*w_dec"
   ]
  },
  {
   "cell_type": "code",
   "execution_count": null,
   "id": "f8770a2f-e863-4868-8a5f-a43ad2cb6ece",
   "metadata": {},
   "outputs": [],
   "source": []
  }
 ],
 "metadata": {
  "kernelspec": {
   "display_name": "Python 3 (ipykernel)",
   "language": "python",
   "name": "python3"
  },
  "language_info": {
   "codemirror_mode": {
    "name": "ipython",
    "version": 3
   },
   "file_extension": ".py",
   "mimetype": "text/x-python",
   "name": "python",
   "nbconvert_exporter": "python",
   "pygments_lexer": "ipython3",
   "version": "3.8.10"
  }
 },
 "nbformat": 4,
 "nbformat_minor": 5
}
